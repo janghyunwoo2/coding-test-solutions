{
 "cells": [
  {
   "cell_type": "code",
   "execution_count": null,
   "id": "c2bf4c86",
   "metadata": {},
   "outputs": [],
   "source": [
    "# 필요한 패키지 설치하기 (한번만 실행)\n",
    "!pip install ipython-sql"
   ]
  },
  {
   "cell_type": "code",
   "execution_count": 1,
   "id": "38d30e6f",
   "metadata": {},
   "outputs": [],
   "source": [
    "# SQL 확장 기능 로드하기\n",
    "%load_ext sql\n",
    "\n",
    "# 메모리 기반 임시 데이터베이스 연결(커널이 재시작 되면 다시 실행 해야함)\n",
    "%sql sqlite:///:memory:\n",
    "%config SqlMagic.style = '_DEPRECATED_DEFAULT'\n",
    "\n",
    "#%sql sqlite:///my_test_db1.db ~ "
   ]
  },
  {
   "cell_type": "code",
   "execution_count": 2,
   "id": "9563e739",
   "metadata": {},
   "outputs": [
    {
     "name": "stdout",
     "output_type": "stream",
     "text": [
      " * sqlite:///:memory:\n",
      "Done.\n",
      "1 rows affected.\n",
      "1 rows affected.\n"
     ]
    },
    {
     "data": {
      "text/plain": [
       "[]"
      ]
     },
     "execution_count": 2,
     "metadata": {},
     "output_type": "execute_result"
    }
   ],
   "source": [
    "%%sql\n",
    "\n",
    "CREATE TABLE test_table (\n",
    "    id INTEGER PRIMARY KEY,\n",
    "    name TEXT,\n",
    "    value INTEGER\n",
    ");\n",
    "\n",
    "INSERT INTO test_table (name, value) VALUES ('현우', 100);\n",
    "INSERT INTO test_table (name, value) VALUES ('철수', 200);"
   ]
  },
  {
   "cell_type": "code",
   "execution_count": 3,
   "id": "5d8ff80e",
   "metadata": {},
   "outputs": [
    {
     "name": "stdout",
     "output_type": "stream",
     "text": [
      " * sqlite:///:memory:\n",
      "Done.\n"
     ]
    },
    {
     "data": {
      "text/html": [
       "<table>\n",
       "    <thead>\n",
       "        <tr>\n",
       "            <th>id</th>\n",
       "            <th>name</th>\n",
       "            <th>value</th>\n",
       "        </tr>\n",
       "    </thead>\n",
       "    <tbody>\n",
       "        <tr>\n",
       "            <td>1</td>\n",
       "            <td>현우</td>\n",
       "            <td>100</td>\n",
       "        </tr>\n",
       "        <tr>\n",
       "            <td>2</td>\n",
       "            <td>철수</td>\n",
       "            <td>200</td>\n",
       "        </tr>\n",
       "    </tbody>\n",
       "</table>"
      ],
      "text/plain": [
       "[(1, '현우', 100), (2, '철수', 200)]"
      ]
     },
     "execution_count": 3,
     "metadata": {},
     "output_type": "execute_result"
    }
   ],
   "source": [
    "%%sql\n",
    "SELECT * FROM test_table;"
   ]
  }
 ],
 "metadata": {
  "kernelspec": {
   "display_name": "base",
   "language": "python",
   "name": "python3"
  },
  "language_info": {
   "codemirror_mode": {
    "name": "ipython",
    "version": 3
   },
   "file_extension": ".py",
   "mimetype": "text/x-python",
   "name": "python",
   "nbconvert_exporter": "python",
   "pygments_lexer": "ipython3",
   "version": "3.13.5"
  }
 },
 "nbformat": 4,
 "nbformat_minor": 5
}
