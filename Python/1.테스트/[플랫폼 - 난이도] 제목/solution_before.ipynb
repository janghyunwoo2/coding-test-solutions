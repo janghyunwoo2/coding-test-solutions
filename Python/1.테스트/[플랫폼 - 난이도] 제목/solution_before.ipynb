{
 "cells": [
  {
   "cell_type": "code",
   "execution_count": null,
   "id": "691f3873",
   "metadata": {},
   "outputs": [
    {
     "data": {
      "text/plain": [
       "True"
      ]
     },
     "execution_count": 2,
     "metadata": {},
     "output_type": "execute_result"
    }
   ],
   "source": [
    "'''\n",
    "1. 개요\n",
    "정수 배열 하나, 중복값 제거, 내림차순 정렬\n",
    "\n",
    "2. 제약 조건\n",
    "배열 길이 2 이상 10만 이하\n",
    "데이터 값 -10만~10만 사이\n",
    "\n",
    "3. 입출력\n",
    "[4,2,2,1,3,4] => [4,3,2,1]\n",
    "=> 중복제거, 내림차순 정렬\n",
    "\n",
    "4. 문제 분석\n",
    "첫번째. 중복값 제거\n",
    "두번째. 내림차순으로 정렬\n",
    "\n",
    "배열의 길이 10만 O(n^2) 알고리즘으로 정렬 수행하면 10만*10만 = 100만\n",
    "\n",
    "\n",
    "'''\n",
    "\n",
    "def solution(phone_book):\n",
    "    # 여기다 작성해라\n",
    "\n",
    "    # 힌트는 ... 이다\n",
    "    return True\n",
    "\n",
    "solution(\"22\")"
   ]
  },
  {
   "cell_type": "code",
   "execution_count": null,
   "id": "1a9a0cdb",
   "metadata": {},
   "outputs": [],
   "source": []
  }
 ],
 "metadata": {
  "kernelspec": {
   "display_name": "base",
   "language": "python",
   "name": "python3"
  },
  "language_info": {
   "codemirror_mode": {
    "name": "ipython",
    "version": 3
   },
   "file_extension": ".py",
   "mimetype": "text/x-python",
   "name": "python",
   "nbconvert_exporter": "python",
   "pygments_lexer": "ipython3",
   "version": "3.13.5"
  }
 },
 "nbformat": 4,
 "nbformat_minor": 5
}
