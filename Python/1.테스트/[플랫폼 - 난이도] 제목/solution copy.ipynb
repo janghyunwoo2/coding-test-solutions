{
 "cells": [
  {
   "cell_type": "code",
   "execution_count": null,
   "id": "691f3873",
   "metadata": {},
   "outputs": [],
   "source": [
    "def solution(answers):\n",
    "    \n"
   ]
  },
  {
   "cell_type": "code",
   "execution_count": 11,
   "id": "a437a075",
   "metadata": {},
   "outputs": [],
   "source": [
    "# 테스트 케이스\n",
    "input = [1,2,3,4,5,1,2,3,4,5,1,2,3,4,5,1,2,3,4,5]\n",
    "output = [1]"
   ]
  },
  {
   "cell_type": "code",
   "execution_count": 3,
   "id": "4e2468f3",
   "metadata": {},
   "outputs": [],
   "source": [
    "# 테스트 함수\n",
    "def test(solution):\n",
    "\n",
    "    # 비교하기\n",
    "    if output == solution(input):\n",
    "        print(f'예상 값={output}, 출력 값={solution(input)}')\n",
    "        return \"통과\"\n",
    "    else:\n",
    "        print(f'예상 값={output}, 출력 값={solution(input)}')\n",
    "        return \"틀림\""
   ]
  },
  {
   "cell_type": "code",
   "execution_count": 14,
   "id": "b2acb290",
   "metadata": {},
   "outputs": [
    {
     "name": "stdout",
     "output_type": "stream",
     "text": [
      "예상 값=[1], 출력 값=[1]\n"
     ]
    },
    {
     "data": {
      "text/plain": [
       "'통과'"
      ]
     },
     "execution_count": 14,
     "metadata": {},
     "output_type": "execute_result"
    }
   ],
   "source": [
    "test(solution)"
   ]
  }
 ],
 "metadata": {
  "kernelspec": {
   "display_name": "base",
   "language": "python",
   "name": "python3"
  },
  "language_info": {
   "codemirror_mode": {
    "name": "ipython",
    "version": 3
   },
   "file_extension": ".py",
   "mimetype": "text/x-python",
   "name": "python",
   "nbconvert_exporter": "python",
   "pygments_lexer": "ipython3",
   "version": "3.13.5"
  }
 },
 "nbformat": 4,
 "nbformat_minor": 5
}
