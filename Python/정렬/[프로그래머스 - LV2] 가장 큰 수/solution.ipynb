{
 "cells": [
  {
   "cell_type": "code",
   "execution_count": null,
   "id": "691f3873",
   "metadata": {},
   "outputs": [],
   "source": [
    "import functools\n",
    "def my_sort(x,y):\n",
    "    t1 = x+y\n",
    "    t2 = y+x\n",
    "    \n",
    "    if int(t1) > int(t2):\n",
    "        return -1\n",
    "    else: #int(t1) < int(t2):\n",
    "        return 1\n",
    "\n",
    "def solution(numbers):\n",
    "    # 리스트 요소를 int를 str로 바꾸기\n",
    "    numbers = [str(i) for i in numbers]\n",
    "    \n",
    "    numbers = sorted(numbers,key=functools.cmp_to_key(my_sort))\n",
    "    return str(int(''.join(map(str,numbers))))"
   ]
  },
  {
   "cell_type": "code",
   "execution_count": 2,
   "id": "75d27b0d",
   "metadata": {},
   "outputs": [
    {
     "data": {
      "text/plain": [
       "'6210'"
      ]
     },
     "execution_count": 2,
     "metadata": {},
     "output_type": "execute_result"
    }
   ],
   "source": [
    "# 테스트 케이스\n",
    "numbers = [6, 10, 2]\n",
    "\n",
    "solution(numbers)"
   ]
  },
  {
   "cell_type": "code",
   "execution_count": 3,
   "id": "7f70b441",
   "metadata": {},
   "outputs": [
    {
     "data": {
      "text/plain": [
       "'9534330'"
      ]
     },
     "execution_count": 3,
     "metadata": {},
     "output_type": "execute_result"
    }
   ],
   "source": [
    "# 테스트 케이스\n",
    "numbers = [3, 30, 34, 5, 9]\n",
    "\n",
    "solution(numbers)"
   ]
  },
  {
   "cell_type": "code",
   "execution_count": 4,
   "id": "d65442bc",
   "metadata": {},
   "outputs": [
    {
     "data": {
      "text/plain": [
       "'0'"
      ]
     },
     "execution_count": 4,
     "metadata": {},
     "output_type": "execute_result"
    }
   ],
   "source": [
    "# 테스트 케이스\n",
    "numbers = [0,0,0,0]\n",
    "\n",
    "solution(numbers)"
   ]
  }
 ],
 "metadata": {
  "kernelspec": {
   "display_name": "base",
   "language": "python",
   "name": "python3"
  },
  "language_info": {
   "codemirror_mode": {
    "name": "ipython",
    "version": 3
   },
   "file_extension": ".py",
   "mimetype": "text/x-python",
   "name": "python",
   "nbconvert_exporter": "python",
   "pygments_lexer": "ipython3",
   "version": "3.13.5"
  }
 },
 "nbformat": 4,
 "nbformat_minor": 5
}
