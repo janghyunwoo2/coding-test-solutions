{
 "cells": [
  {
   "cell_type": "code",
   "execution_count": null,
   "id": "691f3873",
   "metadata": {},
   "outputs": [
    {
     "data": {
      "text/plain": [
       "[0, 10]"
      ]
     },
     "execution_count": 9,
     "metadata": {},
     "output_type": "execute_result"
    }
   ],
   "source": [
    "def solution(numbers):\n",
    "    list1 = []\n",
    "\n",
    "    # 1. 두개의 숫자 뽑아서 더하기\n",
    "    for i in range(len(numbers)):\n",
    "        for j in range(i+1,len(numbers)):\n",
    "            list1.append(numbers[i]+numbers[j])\n",
    "            \n",
    "    # 2. 중복제거\n",
    "    list1 = list(set(list1))\n",
    "\n",
    "    # 3.오름차순 정렬\n",
    "    list1.sort()\n",
    "\n",
    "    return list1\n",
    "numbers = [2,1,3,4,1]\n",
    "numbers = [5,0,2,7]\n",
    "\n",
    "solution(numbers)"
   ]
  }
 ],
 "metadata": {
  "kernelspec": {
   "display_name": "base",
   "language": "python",
   "name": "python3"
  },
  "language_info": {
   "codemirror_mode": {
    "name": "ipython",
    "version": 3
   },
   "file_extension": ".py",
   "mimetype": "text/x-python",
   "name": "python",
   "nbconvert_exporter": "python",
   "pygments_lexer": "ipython3",
   "version": "3.13.5"
  }
 },
 "nbformat": 4,
 "nbformat_minor": 5
}
