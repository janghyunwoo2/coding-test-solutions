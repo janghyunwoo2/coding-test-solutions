{
 "cells": [
  {
   "cell_type": "code",
   "execution_count": null,
   "id": "691f3873",
   "metadata": {},
   "outputs": [
    {
     "data": {
      "text/plain": [
       "[[15, 15], [15, 15], [15, 15]]"
      ]
     },
     "execution_count": 40,
     "metadata": {},
     "output_type": "execute_result"
    }
   ],
   "source": [
    "def solution(arr1, arr2):\n",
    "\n",
    "    # 첫번째 행렬의 행 길이\n",
    "    low1 = len(arr1)\n",
    "    # 두번째 행렬의 렬 길이\n",
    "    col2 = len(arr2[0])\n",
    "    # 행열의 곱에서 첫번째 행렬의 열과 두번째 행렬의 행은 같음\n",
    "    low2 = len(arr1[0])\n",
    "\n",
    "    # 결과값\n",
    "    answer = [[0 for _ in range(col2)] for _ in range(low1)]\n",
    "\n",
    "    for i in range(low1):\n",
    "        for j in range(col2):\n",
    "            for k in range(low2):\n",
    "                # 첫번째 행렬의 열과 두번째 행렬의 행의 인덱스는 항상 같다 (k)\n",
    "                answer[i][j] +=arr1[i][k]*arr2[k][j]\n",
    "\n",
    "\n",
    "    return answer\n"
   ]
  },
  {
   "cell_type": "code",
   "execution_count": 44,
   "id": "a437a075",
   "metadata": {},
   "outputs": [],
   "source": [
    "# 테스트 케이스\n",
    "input1, input2 = [[1, 4], [3, 2], [4, 1]], [[3, 3], [3, 3]]\n",
    "output = [[15, 15], [15, 15], [15, 15]]\n",
    "\n",
    "#solution(input1,input2)"
   ]
  },
  {
   "cell_type": "code",
   "execution_count": 49,
   "id": "4e2468f3",
   "metadata": {},
   "outputs": [],
   "source": [
    "# 테스트 함수\n",
    "def test(solution):\n",
    "\n",
    "    # 비교하기\n",
    "    if output == solution(input1,input2):\n",
    "        print(f'예상 값={output}, 출력 값={solution(input1,input2)}')\n",
    "        return \"통과\"\n",
    "    else:\n",
    "        print(f'예상 값={output}, 출력 값={solution(input1,input2)}')\n",
    "        return \"틀림\""
   ]
  },
  {
   "cell_type": "code",
   "execution_count": 50,
   "id": "b2acb290",
   "metadata": {},
   "outputs": [
    {
     "name": "stdout",
     "output_type": "stream",
     "text": [
      "예상 값=[[15, 15], [15, 15], [15, 15]], 출력 값=[[15, 15], [15, 15], [15, 15]]\n"
     ]
    },
    {
     "data": {
      "text/plain": [
       "'통과'"
      ]
     },
     "execution_count": 50,
     "metadata": {},
     "output_type": "execute_result"
    }
   ],
   "source": [
    "test(solution)"
   ]
  }
 ],
 "metadata": {
  "kernelspec": {
   "display_name": "base",
   "language": "python",
   "name": "python3"
  },
  "language_info": {
   "codemirror_mode": {
    "name": "ipython",
    "version": 3
   },
   "file_extension": ".py",
   "mimetype": "text/x-python",
   "name": "python",
   "nbconvert_exporter": "python",
   "pygments_lexer": "ipython3",
   "version": "3.13.5"
  }
 },
 "nbformat": 4,
 "nbformat_minor": 5
}
