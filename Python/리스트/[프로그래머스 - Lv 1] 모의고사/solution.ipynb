{
 "cells": [
  {
   "cell_type": "code",
   "execution_count": null,
   "id": "691f3873",
   "metadata": {},
   "outputs": [],
   "source": [
    "def solution(answers):\n",
    "    # 0. 정답 찍기\n",
    "    h1 = [1,2,3,4,5]\n",
    "    h2 = [2,1,2,3,2,4,2,5]\n",
    "    h3 = [3,3,1,1,2,2,4,4,5,5]\n",
    "\n",
    "    count = [0,0,0]\n",
    "\n",
    "    # 1. 정답 비교하기\n",
    "    for i in range(len(answers)):\n",
    "        \n",
    "        # 2. 정답이라면 카운트하기\n",
    "        # 나머지 연산으로 자신의 길이 만큼 반복하기\n",
    "        if h1[i%len(h1)] == answers[i]:\n",
    "            count[0]+=1\n",
    "        if h2[i%len(h2)] == answers[i]:\n",
    "            count[1]+=1\n",
    "        if h3[i%len(h3)] == answers[i]:\n",
    "            count[2]+=1\n",
    "        \n",
    "    # 3. 가장 많이 맞춘 사람 리턴(리스트로)\n",
    "    return sorted([ i+1 for i,j in enumerate(count) if j== max(count)])\n"
   ]
  },
  {
   "cell_type": "code",
   "execution_count": 11,
   "id": "a437a075",
   "metadata": {},
   "outputs": [],
   "source": [
    "# 테스트 케이스\n",
    "input = [1,2,3,4,5,1,2,3,4,5,1,2,3,4,5,1,2,3,4,5]\n",
    "output = [1]"
   ]
  },
  {
   "cell_type": "code",
   "execution_count": 5,
   "id": "782ccdfe",
   "metadata": {},
   "outputs": [],
   "source": [
    "# 테스트 케이스2\n",
    "input = [1,3,2,4,2]\n",
    "output = [1,2,3]"
   ]
  },
  {
   "cell_type": "code",
   "execution_count": 3,
   "id": "4e2468f3",
   "metadata": {},
   "outputs": [],
   "source": [
    "# 테스트 함수\n",
    "def test(solution):\n",
    "\n",
    "    # 비교하기\n",
    "    if output == solution(input):\n",
    "        print(f'예상 값={output}, 출력 값={solution(input)}')\n",
    "        return \"통과\"\n",
    "    else:\n",
    "        print(f'예상 값={output}, 출력 값={solution(input)}')\n",
    "        return \"틀림\""
   ]
  },
  {
   "cell_type": "code",
   "execution_count": 14,
   "id": "b2acb290",
   "metadata": {},
   "outputs": [
    {
     "name": "stdout",
     "output_type": "stream",
     "text": [
      "예상 값=[1], 출력 값=[1]\n"
     ]
    },
    {
     "data": {
      "text/plain": [
       "'통과'"
      ]
     },
     "execution_count": 14,
     "metadata": {},
     "output_type": "execute_result"
    }
   ],
   "source": [
    "test(solution)"
   ]
  }
 ],
 "metadata": {
  "kernelspec": {
   "display_name": "base",
   "language": "python",
   "name": "python3"
  },
  "language_info": {
   "codemirror_mode": {
    "name": "ipython",
    "version": 3
   },
   "file_extension": ".py",
   "mimetype": "text/x-python",
   "name": "python",
   "nbconvert_exporter": "python",
   "pygments_lexer": "ipython3",
   "version": "3.13.5"
  }
 },
 "nbformat": 4,
 "nbformat_minor": 5
}
