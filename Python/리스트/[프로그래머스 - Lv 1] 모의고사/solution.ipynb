{
 "cells": [
  {
   "cell_type": "code",
   "execution_count": null,
   "id": "691f3873",
   "metadata": {},
   "outputs": [],
   "source": [
    "def solution(numbers):\n",
    "    \n",
    "\n",
    "    return \n",
    "\n"
   ]
  },
  {
   "cell_type": "code",
   "execution_count": 21,
   "id": "4e2468f3",
   "metadata": {},
   "outputs": [],
   "source": [
    "# 테스트 케이스\n",
    "input = [2,1,3,4,1]\n",
    "output = [2, 3, 4, 5, 6, 7]\n",
    "\n",
    "# 테스트 함수\n",
    "def test(solution):\n",
    "    \n",
    "    # 비교하기\n",
    "    if output == solution(input):\n",
    "        return \"통과\"\n",
    "    else:\n",
    "        return \"틀림\""
   ]
  },
  {
   "cell_type": "code",
   "execution_count": 22,
   "id": "b2acb290",
   "metadata": {},
   "outputs": [
    {
     "data": {
      "text/plain": [
       "'통과'"
      ]
     },
     "execution_count": 22,
     "metadata": {},
     "output_type": "execute_result"
    }
   ],
   "source": [
    "test(solution)"
   ]
  }
 ],
 "metadata": {
  "kernelspec": {
   "display_name": "base",
   "language": "python",
   "name": "python3"
  },
  "language_info": {
   "codemirror_mode": {
    "name": "ipython",
    "version": 3
   },
   "file_extension": ".py",
   "mimetype": "text/x-python",
   "name": "python",
   "nbconvert_exporter": "python",
   "pygments_lexer": "ipython3",
   "version": "3.13.5"
  }
 },
 "nbformat": 4,
 "nbformat_minor": 5
}
