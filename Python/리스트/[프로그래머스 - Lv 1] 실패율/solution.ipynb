{
 "cells": [
  {
   "cell_type": "code",
   "execution_count": null,
   "id": "691f3873",
   "metadata": {},
   "outputs": [],
   "source": [
    "'''\n",
    "아이디어 1\n",
    "2중 for문으로 구현\n",
    "비효율적. 느림. 실행시간 1000ms 넘어가는 테스트도 있었음\n",
    "'''\n",
    "def solution(N, stages):\n",
    "    answer = []\n",
    "    len1 = len(stages)\n",
    "    count = 0\n",
    "\n",
    "    # 각 스테이지 별 실패자 구하기\n",
    "    for i in range(1,N+1):\n",
    "        for j in stages:\n",
    "            if i==j:\n",
    "                # 실패자\n",
    "                count+=1\n",
    "        # 실패율 구하기\n",
    "        answer.append([i,count/len1 if len1!=0 else 0.0])\n",
    "        len1 -= count\n",
    "        count = 0\n",
    "            \n",
    "    # 실패율로 정렬하기\n",
    "    return [i[0] for i in sorted(answer,key=lambda x:(-x[1],x[0]))]\n",
    "    # return sorted(answer,key=lambda x:(-x[1],x[0]))\n",
    "\n"
   ]
  },
  {
   "cell_type": "code",
   "execution_count": null,
   "id": "db4a577b",
   "metadata": {},
   "outputs": [],
   "source": [
    "'''\n",
    "아이디어 2\n",
    "이중 for을 사용하지 않고 실패한 사람을 미리 구하고, 스테이지 별 실패율 구하기\n",
    "\n",
    "배울점\n",
    "리스트를 활용한 카운팅\n",
    "인덱스를 각각의 스테이지 번호라고 하고 인덱스에 실패자 수를 +1 해가면서 카운팅하는 것\n",
    "인덱스를 1부터 사용하기 위해 배열 크기를 조절하는 '인덱스 트릭' 많이 쓰인다고 한다\n",
    "\n",
    "'''\n",
    "\n",
    "def solution(N, stages):\n",
    "    # 스테이지에 도달했으나 아직 클리어하지 못한 플레이어 수\n",
    "    play_fails = [0]*(N+2)\n",
    "    for stage in stages:\n",
    "        play_fails[stage]+=1\n",
    "\n",
    "    total_pray = len(stages)\n",
    "    fail_rate = []\n",
    "\n",
    "    # 스테이지 별 실패율 구하기\n",
    "    for i in range(1,N+1):\n",
    "        if total_pray == 0:\n",
    "            fail_rate.append([i,0])\n",
    "        else:\n",
    "            fail_rate.append([i,play_fails[i]/total_pray])\n",
    "        total_pray-=play_fails[i]\n",
    "\n",
    "    # 실패율로 정렬하기\n",
    "    return [i[0] for i in sorted(fail_rate,key=lambda x:(-x[1],x[0]))]"
   ]
  },
  {
   "cell_type": "code",
   "execution_count": 165,
   "id": "a07886e8",
   "metadata": {},
   "outputs": [
    {
     "data": {
      "text/plain": [
       "[3, 4, 2, 1, 5]"
      ]
     },
     "execution_count": 165,
     "metadata": {},
     "output_type": "execute_result"
    }
   ],
   "source": [
    "# 테스트 케이스\n",
    "N = 5\n",
    "stages = [2, 1, 2, 6, 2, 4, 3, 3]\n",
    "result = [3,4,2,1,5]\n",
    "\n",
    "solution(N, stages)"
   ]
  },
  {
   "cell_type": "code",
   "execution_count": 132,
   "id": "0dfa54fc",
   "metadata": {},
   "outputs": [
    {
     "data": {
      "text/plain": [
       "[4, 1, 2, 3, 5]"
      ]
     },
     "execution_count": 132,
     "metadata": {},
     "output_type": "execute_result"
    }
   ],
   "source": [
    "# 테스트 케이스\n",
    "N = 5\n",
    "stages = [4,4,4,4,4]\n",
    "result = [4,1,2,3]\n",
    "\n",
    "solution(N, stages)"
   ]
  },
  {
   "cell_type": "code",
   "execution_count": 133,
   "id": "71c8ce85",
   "metadata": {},
   "outputs": [
    {
     "data": {
      "text/plain": [
       "[2, 1, 3, 4, 5]"
      ]
     },
     "execution_count": 133,
     "metadata": {},
     "output_type": "execute_result"
    }
   ],
   "source": [
    "# 테스트 케이스\n",
    "N = 5\n",
    "stages = [1,2]\n",
    "result = [4,1,2,3]\n",
    "\n",
    "solution(N, stages)"
   ]
  },
  {
   "cell_type": "code",
   "execution_count": 166,
   "id": "4e2468f3",
   "metadata": {},
   "outputs": [],
   "source": [
    "# 테스트 함수\n",
    "def test(solution):\n",
    "    \n",
    "    # 비교하기\n",
    "    if result == solution(N, stages):\n",
    "        print(solution(N, stages),result)\n",
    "        return \"통과\"\n",
    "    else:\n",
    "        print(solution(N, stages),result)\n",
    "        return \"틀림\""
   ]
  },
  {
   "cell_type": "code",
   "execution_count": 167,
   "id": "b2acb290",
   "metadata": {},
   "outputs": [
    {
     "name": "stdout",
     "output_type": "stream",
     "text": [
      "[3, 4, 2, 1, 5] [3, 4, 2, 1, 5]\n"
     ]
    },
    {
     "data": {
      "text/plain": [
       "'통과'"
      ]
     },
     "execution_count": 167,
     "metadata": {},
     "output_type": "execute_result"
    }
   ],
   "source": [
    "test(solution)"
   ]
  }
 ],
 "metadata": {
  "kernelspec": {
   "display_name": "base",
   "language": "python",
   "name": "python3"
  },
  "language_info": {
   "codemirror_mode": {
    "name": "ipython",
    "version": 3
   },
   "file_extension": ".py",
   "mimetype": "text/x-python",
   "name": "python",
   "nbconvert_exporter": "python",
   "pygments_lexer": "ipython3",
   "version": "3.13.5"
  }
 },
 "nbformat": 4,
 "nbformat_minor": 5
}
